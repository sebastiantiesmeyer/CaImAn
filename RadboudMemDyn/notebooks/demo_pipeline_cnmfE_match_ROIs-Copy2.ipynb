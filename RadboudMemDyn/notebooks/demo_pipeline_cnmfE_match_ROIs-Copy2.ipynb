{
 "cells": [
  {
   "cell_type": "markdown",
   "metadata": {},
   "source": [
    "<html><head><meta content=\"text/html; charset=UTF-8\" http-equiv=\"content-type\"><style type=\"text/css\">ol</style></head><body class=\"c5\"><p class=\"c0 c4\"><span class=\"c3\"></span></p><p class=\"c2 title\" id=\"h.rrbabt268i6e\"><h1>CaImAn&rsquo;s Demo pipeline, </h1></p><p class=\"c0\"><span class=\"c3\">This notebook will help to demonstrate the process of CaImAn and how it uses different functions to denoise, deconvolve and demix neurons from a Calcium Imaging Video. </span></p>\n",
    "<p><img src=\"docs/img/quickintro.png\" /></p>\n",
    "<p class=\"c0\"><span class=\"c3\">More information can be found in CaImAn&rsquo;s documentation. </span></p>\n",
    "</html>\n",
    "\n"
   ]
  },
  {
   "cell_type": "code",
   "execution_count": 56,
   "metadata": {},
   "outputs": [
    {
     "name": "stdout",
     "output_type": "stream",
     "text": [
      "The autoreload extension is already loaded. To reload it, use:\n",
      "  %reload_ext autoreload\n"
     ]
    },
    {
     "data": {
      "text/html": [
       "\n",
       "    <div class=\"bk-root\">\n",
       "        <a href=\"https://bokeh.pydata.org\" target=\"_blank\" class=\"bk-logo bk-logo-small bk-logo-notebook\"></a>\n",
       "        <span id=\"3d0fa9d2-4f35-4677-9f16-255b018abeda\">Loading BokehJS ...</span>\n",
       "    </div>"
      ]
     },
     "metadata": {},
     "output_type": "display_data"
    },
    {
     "data": {
      "application/javascript": [
       "\n",
       "(function(root) {\n",
       "  function now() {\n",
       "    return new Date();\n",
       "  }\n",
       "\n",
       "  var force = true;\n",
       "\n",
       "  if (typeof (root._bokeh_onload_callbacks) === \"undefined\" || force === true) {\n",
       "    root._bokeh_onload_callbacks = [];\n",
       "    root._bokeh_is_loading = undefined;\n",
       "  }\n",
       "\n",
       "  var JS_MIME_TYPE = 'application/javascript';\n",
       "  var HTML_MIME_TYPE = 'text/html';\n",
       "  var EXEC_MIME_TYPE = 'application/vnd.bokehjs_exec.v0+json';\n",
       "  var CLASS_NAME = 'output_bokeh rendered_html';\n",
       "\n",
       "  /**\n",
       "   * Render data to the DOM node\n",
       "   */\n",
       "  function render(props, node) {\n",
       "    var script = document.createElement(\"script\");\n",
       "    node.appendChild(script);\n",
       "  }\n",
       "\n",
       "  /**\n",
       "   * Handle when an output is cleared or removed\n",
       "   */\n",
       "  function handleClearOutput(event, handle) {\n",
       "    var cell = handle.cell;\n",
       "\n",
       "    var id = cell.output_area._bokeh_element_id;\n",
       "    var server_id = cell.output_area._bokeh_server_id;\n",
       "    // Clean up Bokeh references\n",
       "    if (id !== undefined) {\n",
       "      Bokeh.index[id].model.document.clear();\n",
       "      delete Bokeh.index[id];\n",
       "    }\n",
       "\n",
       "    if (server_id !== undefined) {\n",
       "      // Clean up Bokeh references\n",
       "      var cmd = \"from bokeh.io.state import curstate; print(curstate().uuid_to_server['\" + server_id + \"'].get_sessions()[0].document.roots[0]._id)\";\n",
       "      cell.notebook.kernel.execute(cmd, {\n",
       "        iopub: {\n",
       "          output: function(msg) {\n",
       "            var element_id = msg.content.text.trim();\n",
       "            Bokeh.index[element_id].model.document.clear();\n",
       "            delete Bokeh.index[element_id];\n",
       "          }\n",
       "        }\n",
       "      });\n",
       "      // Destroy server and session\n",
       "      var cmd = \"import bokeh.io.notebook as ion; ion.destroy_server('\" + server_id + \"')\";\n",
       "      cell.notebook.kernel.execute(cmd);\n",
       "    }\n",
       "  }\n",
       "\n",
       "  /**\n",
       "   * Handle when a new output is added\n",
       "   */\n",
       "  function handleAddOutput(event, handle) {\n",
       "    var output_area = handle.output_area;\n",
       "    var output = handle.output;\n",
       "\n",
       "    // limit handleAddOutput to display_data with EXEC_MIME_TYPE content only\n",
       "    if ((output.output_type != \"display_data\") || (!output.data.hasOwnProperty(EXEC_MIME_TYPE))) {\n",
       "      return\n",
       "    }\n",
       "\n",
       "    var toinsert = output_area.element.find(\".\" + CLASS_NAME.split(' ')[0]);\n",
       "\n",
       "    if (output.metadata[EXEC_MIME_TYPE][\"id\"] !== undefined) {\n",
       "      toinsert[toinsert.length - 1].firstChild.textContent = output.data[JS_MIME_TYPE];\n",
       "      // store reference to embed id on output_area\n",
       "      output_area._bokeh_element_id = output.metadata[EXEC_MIME_TYPE][\"id\"];\n",
       "    }\n",
       "    if (output.metadata[EXEC_MIME_TYPE][\"server_id\"] !== undefined) {\n",
       "      var bk_div = document.createElement(\"div\");\n",
       "      bk_div.innerHTML = output.data[HTML_MIME_TYPE];\n",
       "      var script_attrs = bk_div.children[0].attributes;\n",
       "      for (var i = 0; i < script_attrs.length; i++) {\n",
       "        toinsert[toinsert.length - 1].firstChild.setAttribute(script_attrs[i].name, script_attrs[i].value);\n",
       "      }\n",
       "      // store reference to server id on output_area\n",
       "      output_area._bokeh_server_id = output.metadata[EXEC_MIME_TYPE][\"server_id\"];\n",
       "    }\n",
       "  }\n",
       "\n",
       "  function register_renderer(events, OutputArea) {\n",
       "\n",
       "    function append_mime(data, metadata, element) {\n",
       "      // create a DOM node to render to\n",
       "      var toinsert = this.create_output_subarea(\n",
       "        metadata,\n",
       "        CLASS_NAME,\n",
       "        EXEC_MIME_TYPE\n",
       "      );\n",
       "      this.keyboard_manager.register_events(toinsert);\n",
       "      // Render to node\n",
       "      var props = {data: data, metadata: metadata[EXEC_MIME_TYPE]};\n",
       "      render(props, toinsert[toinsert.length - 1]);\n",
       "      element.append(toinsert);\n",
       "      return toinsert\n",
       "    }\n",
       "\n",
       "    /* Handle when an output is cleared or removed */\n",
       "    events.on('clear_output.CodeCell', handleClearOutput);\n",
       "    events.on('delete.Cell', handleClearOutput);\n",
       "\n",
       "    /* Handle when a new output is added */\n",
       "    events.on('output_added.OutputArea', handleAddOutput);\n",
       "\n",
       "    /**\n",
       "     * Register the mime type and append_mime function with output_area\n",
       "     */\n",
       "    OutputArea.prototype.register_mime_type(EXEC_MIME_TYPE, append_mime, {\n",
       "      /* Is output safe? */\n",
       "      safe: true,\n",
       "      /* Index of renderer in `output_area.display_order` */\n",
       "      index: 0\n",
       "    });\n",
       "  }\n",
       "\n",
       "  // register the mime type if in Jupyter Notebook environment and previously unregistered\n",
       "  if (root.Jupyter !== undefined) {\n",
       "    var events = require('base/js/events');\n",
       "    var OutputArea = require('notebook/js/outputarea').OutputArea;\n",
       "\n",
       "    if (OutputArea.prototype.mime_types().indexOf(EXEC_MIME_TYPE) == -1) {\n",
       "      register_renderer(events, OutputArea);\n",
       "    }\n",
       "  }\n",
       "\n",
       "  \n",
       "  if (typeof (root._bokeh_timeout) === \"undefined\" || force === true) {\n",
       "    root._bokeh_timeout = Date.now() + 5000;\n",
       "    root._bokeh_failed_load = false;\n",
       "  }\n",
       "\n",
       "  var NB_LOAD_WARNING = {'data': {'text/html':\n",
       "     \"<div style='background-color: #fdd'>\\n\"+\n",
       "     \"<p>\\n\"+\n",
       "     \"BokehJS does not appear to have successfully loaded. If loading BokehJS from CDN, this \\n\"+\n",
       "     \"may be due to a slow or bad network connection. Possible fixes:\\n\"+\n",
       "     \"</p>\\n\"+\n",
       "     \"<ul>\\n\"+\n",
       "     \"<li>re-rerun `output_notebook()` to attempt to load from CDN again, or</li>\\n\"+\n",
       "     \"<li>use INLINE resources instead, as so:</li>\\n\"+\n",
       "     \"</ul>\\n\"+\n",
       "     \"<code>\\n\"+\n",
       "     \"from bokeh.resources import INLINE\\n\"+\n",
       "     \"output_notebook(resources=INLINE)\\n\"+\n",
       "     \"</code>\\n\"+\n",
       "     \"</div>\"}};\n",
       "\n",
       "  function display_loaded() {\n",
       "    var el = document.getElementById(\"3d0fa9d2-4f35-4677-9f16-255b018abeda\");\n",
       "    if (el != null) {\n",
       "      el.textContent = \"BokehJS is loading...\";\n",
       "    }\n",
       "    if (root.Bokeh !== undefined) {\n",
       "      if (el != null) {\n",
       "        el.textContent = \"BokehJS \" + root.Bokeh.version + \" successfully loaded.\";\n",
       "      }\n",
       "    } else if (Date.now() < root._bokeh_timeout) {\n",
       "      setTimeout(display_loaded, 100)\n",
       "    }\n",
       "  }\n",
       "\n",
       "\n",
       "  function run_callbacks() {\n",
       "    try {\n",
       "      root._bokeh_onload_callbacks.forEach(function(callback) { callback() });\n",
       "    }\n",
       "    finally {\n",
       "      delete root._bokeh_onload_callbacks\n",
       "    }\n",
       "    console.info(\"Bokeh: all callbacks have finished\");\n",
       "  }\n",
       "\n",
       "  function load_libs(js_urls, callback) {\n",
       "    root._bokeh_onload_callbacks.push(callback);\n",
       "    if (root._bokeh_is_loading > 0) {\n",
       "      console.log(\"Bokeh: BokehJS is being loaded, scheduling callback at\", now());\n",
       "      return null;\n",
       "    }\n",
       "    if (js_urls == null || js_urls.length === 0) {\n",
       "      run_callbacks();\n",
       "      return null;\n",
       "    }\n",
       "    console.log(\"Bokeh: BokehJS not loaded, scheduling load and callback at\", now());\n",
       "    root._bokeh_is_loading = js_urls.length;\n",
       "    for (var i = 0; i < js_urls.length; i++) {\n",
       "      var url = js_urls[i];\n",
       "      var s = document.createElement('script');\n",
       "      s.src = url;\n",
       "      s.async = false;\n",
       "      s.onreadystatechange = s.onload = function() {\n",
       "        root._bokeh_is_loading--;\n",
       "        if (root._bokeh_is_loading === 0) {\n",
       "          console.log(\"Bokeh: all BokehJS libraries loaded\");\n",
       "          run_callbacks()\n",
       "        }\n",
       "      };\n",
       "      s.onerror = function() {\n",
       "        console.warn(\"failed to load library \" + url);\n",
       "      };\n",
       "      console.log(\"Bokeh: injecting script tag for BokehJS library: \", url);\n",
       "      document.getElementsByTagName(\"head\")[0].appendChild(s);\n",
       "    }\n",
       "  };var element = document.getElementById(\"3d0fa9d2-4f35-4677-9f16-255b018abeda\");\n",
       "  if (element == null) {\n",
       "    console.log(\"Bokeh: ERROR: autoload.js configured with elementid '3d0fa9d2-4f35-4677-9f16-255b018abeda' but no matching script tag was found. \")\n",
       "    return false;\n",
       "  }\n",
       "\n",
       "  var js_urls = [\"https://cdn.pydata.org/bokeh/release/bokeh-0.12.15.min.js\", \"https://cdn.pydata.org/bokeh/release/bokeh-widgets-0.12.15.min.js\", \"https://cdn.pydata.org/bokeh/release/bokeh-tables-0.12.15.min.js\", \"https://cdn.pydata.org/bokeh/release/bokeh-gl-0.12.15.min.js\"];\n",
       "\n",
       "  var inline_js = [\n",
       "    function(Bokeh) {\n",
       "      Bokeh.set_log_level(\"info\");\n",
       "    },\n",
       "    \n",
       "    function(Bokeh) {\n",
       "      \n",
       "    },\n",
       "    function(Bokeh) {\n",
       "      console.log(\"Bokeh: injecting CSS: https://cdn.pydata.org/bokeh/release/bokeh-0.12.15.min.css\");\n",
       "      Bokeh.embed.inject_css(\"https://cdn.pydata.org/bokeh/release/bokeh-0.12.15.min.css\");\n",
       "      console.log(\"Bokeh: injecting CSS: https://cdn.pydata.org/bokeh/release/bokeh-widgets-0.12.15.min.css\");\n",
       "      Bokeh.embed.inject_css(\"https://cdn.pydata.org/bokeh/release/bokeh-widgets-0.12.15.min.css\");\n",
       "      console.log(\"Bokeh: injecting CSS: https://cdn.pydata.org/bokeh/release/bokeh-tables-0.12.15.min.css\");\n",
       "      Bokeh.embed.inject_css(\"https://cdn.pydata.org/bokeh/release/bokeh-tables-0.12.15.min.css\");\n",
       "    }\n",
       "  ];\n",
       "\n",
       "  function run_inline_js() {\n",
       "    \n",
       "    if ((root.Bokeh !== undefined) || (force === true)) {\n",
       "      for (var i = 0; i < inline_js.length; i++) {\n",
       "        inline_js[i].call(root, root.Bokeh);\n",
       "      }if (force === true) {\n",
       "        display_loaded();\n",
       "      }} else if (Date.now() < root._bokeh_timeout) {\n",
       "      setTimeout(run_inline_js, 100);\n",
       "    } else if (!root._bokeh_failed_load) {\n",
       "      console.log(\"Bokeh: BokehJS failed to load within specified timeout.\");\n",
       "      root._bokeh_failed_load = true;\n",
       "    } else if (force !== true) {\n",
       "      var cell = $(document.getElementById(\"3d0fa9d2-4f35-4677-9f16-255b018abeda\")).parents('.cell').data().cell;\n",
       "      cell.output_area.append_execute_result(NB_LOAD_WARNING)\n",
       "    }\n",
       "\n",
       "  }\n",
       "\n",
       "  if (root._bokeh_is_loading === 0) {\n",
       "    console.log(\"Bokeh: BokehJS loaded, going straight to plotting\");\n",
       "    run_inline_js();\n",
       "  } else {\n",
       "    load_libs(js_urls, function() {\n",
       "      console.log(\"Bokeh: BokehJS plotting callback run at\", now());\n",
       "      run_inline_js();\n",
       "    });\n",
       "  }\n",
       "}(window));"
      ],
      "application/vnd.bokehjs_load.v0+json": "\n(function(root) {\n  function now() {\n    return new Date();\n  }\n\n  var force = true;\n\n  if (typeof (root._bokeh_onload_callbacks) === \"undefined\" || force === true) {\n    root._bokeh_onload_callbacks = [];\n    root._bokeh_is_loading = undefined;\n  }\n\n  \n\n  \n  if (typeof (root._bokeh_timeout) === \"undefined\" || force === true) {\n    root._bokeh_timeout = Date.now() + 5000;\n    root._bokeh_failed_load = false;\n  }\n\n  var NB_LOAD_WARNING = {'data': {'text/html':\n     \"<div style='background-color: #fdd'>\\n\"+\n     \"<p>\\n\"+\n     \"BokehJS does not appear to have successfully loaded. If loading BokehJS from CDN, this \\n\"+\n     \"may be due to a slow or bad network connection. Possible fixes:\\n\"+\n     \"</p>\\n\"+\n     \"<ul>\\n\"+\n     \"<li>re-rerun `output_notebook()` to attempt to load from CDN again, or</li>\\n\"+\n     \"<li>use INLINE resources instead, as so:</li>\\n\"+\n     \"</ul>\\n\"+\n     \"<code>\\n\"+\n     \"from bokeh.resources import INLINE\\n\"+\n     \"output_notebook(resources=INLINE)\\n\"+\n     \"</code>\\n\"+\n     \"</div>\"}};\n\n  function display_loaded() {\n    var el = document.getElementById(\"3d0fa9d2-4f35-4677-9f16-255b018abeda\");\n    if (el != null) {\n      el.textContent = \"BokehJS is loading...\";\n    }\n    if (root.Bokeh !== undefined) {\n      if (el != null) {\n        el.textContent = \"BokehJS \" + root.Bokeh.version + \" successfully loaded.\";\n      }\n    } else if (Date.now() < root._bokeh_timeout) {\n      setTimeout(display_loaded, 100)\n    }\n  }\n\n\n  function run_callbacks() {\n    try {\n      root._bokeh_onload_callbacks.forEach(function(callback) { callback() });\n    }\n    finally {\n      delete root._bokeh_onload_callbacks\n    }\n    console.info(\"Bokeh: all callbacks have finished\");\n  }\n\n  function load_libs(js_urls, callback) {\n    root._bokeh_onload_callbacks.push(callback);\n    if (root._bokeh_is_loading > 0) {\n      console.log(\"Bokeh: BokehJS is being loaded, scheduling callback at\", now());\n      return null;\n    }\n    if (js_urls == null || js_urls.length === 0) {\n      run_callbacks();\n      return null;\n    }\n    console.log(\"Bokeh: BokehJS not loaded, scheduling load and callback at\", now());\n    root._bokeh_is_loading = js_urls.length;\n    for (var i = 0; i < js_urls.length; i++) {\n      var url = js_urls[i];\n      var s = document.createElement('script');\n      s.src = url;\n      s.async = false;\n      s.onreadystatechange = s.onload = function() {\n        root._bokeh_is_loading--;\n        if (root._bokeh_is_loading === 0) {\n          console.log(\"Bokeh: all BokehJS libraries loaded\");\n          run_callbacks()\n        }\n      };\n      s.onerror = function() {\n        console.warn(\"failed to load library \" + url);\n      };\n      console.log(\"Bokeh: injecting script tag for BokehJS library: \", url);\n      document.getElementsByTagName(\"head\")[0].appendChild(s);\n    }\n  };var element = document.getElementById(\"3d0fa9d2-4f35-4677-9f16-255b018abeda\");\n  if (element == null) {\n    console.log(\"Bokeh: ERROR: autoload.js configured with elementid '3d0fa9d2-4f35-4677-9f16-255b018abeda' but no matching script tag was found. \")\n    return false;\n  }\n\n  var js_urls = [\"https://cdn.pydata.org/bokeh/release/bokeh-0.12.15.min.js\", \"https://cdn.pydata.org/bokeh/release/bokeh-widgets-0.12.15.min.js\", \"https://cdn.pydata.org/bokeh/release/bokeh-tables-0.12.15.min.js\", \"https://cdn.pydata.org/bokeh/release/bokeh-gl-0.12.15.min.js\"];\n\n  var inline_js = [\n    function(Bokeh) {\n      Bokeh.set_log_level(\"info\");\n    },\n    \n    function(Bokeh) {\n      \n    },\n    function(Bokeh) {\n      console.log(\"Bokeh: injecting CSS: https://cdn.pydata.org/bokeh/release/bokeh-0.12.15.min.css\");\n      Bokeh.embed.inject_css(\"https://cdn.pydata.org/bokeh/release/bokeh-0.12.15.min.css\");\n      console.log(\"Bokeh: injecting CSS: https://cdn.pydata.org/bokeh/release/bokeh-widgets-0.12.15.min.css\");\n      Bokeh.embed.inject_css(\"https://cdn.pydata.org/bokeh/release/bokeh-widgets-0.12.15.min.css\");\n      console.log(\"Bokeh: injecting CSS: https://cdn.pydata.org/bokeh/release/bokeh-tables-0.12.15.min.css\");\n      Bokeh.embed.inject_css(\"https://cdn.pydata.org/bokeh/release/bokeh-tables-0.12.15.min.css\");\n    }\n  ];\n\n  function run_inline_js() {\n    \n    if ((root.Bokeh !== undefined) || (force === true)) {\n      for (var i = 0; i < inline_js.length; i++) {\n        inline_js[i].call(root, root.Bokeh);\n      }if (force === true) {\n        display_loaded();\n      }} else if (Date.now() < root._bokeh_timeout) {\n      setTimeout(run_inline_js, 100);\n    } else if (!root._bokeh_failed_load) {\n      console.log(\"Bokeh: BokehJS failed to load within specified timeout.\");\n      root._bokeh_failed_load = true;\n    } else if (force !== true) {\n      var cell = $(document.getElementById(\"3d0fa9d2-4f35-4677-9f16-255b018abeda\")).parents('.cell').data().cell;\n      cell.output_area.append_execute_result(NB_LOAD_WARNING)\n    }\n\n  }\n\n  if (root._bokeh_is_loading === 0) {\n    console.log(\"Bokeh: BokehJS loaded, going straight to plotting\");\n    run_inline_js();\n  } else {\n    load_libs(js_urls, function() {\n      console.log(\"Bokeh: BokehJS plotting callback run at\", now());\n      run_inline_js();\n    });\n  }\n}(window));"
     },
     "metadata": {},
     "output_type": "display_data"
    }
   ],
   "source": [
    "#!/usr/bin/env python\n",
    "from __future__ import division\n",
    "from __future__ import print_function\n",
    "from builtins import zip\n",
    "from builtins import str\n",
    "from builtins import map\n",
    "from builtins import range\n",
    "from past.utils import old_div\n",
    "try:\n",
    "    get_ipython().magic(u'load_ext autoreload')\n",
    "    get_ipython().magic(u'autoreload 2')    \n",
    "except:\n",
    "    print('Not IPYTHON')\n",
    "import numpy as np\n",
    "import matplotlib.pyplot as plt\n",
    "get_ipython().magic(u'matplotlib qt')   \n",
    "import caiman as cm\n",
    "from caiman.source_extraction import cnmf\n",
    "from caiman.utils.visualization import inspect_correlation_pnr\n",
    "from caiman.components_evaluation import estimate_components_quality_auto\n",
    "from caiman.base.rois import register_ROIs\n",
    "from caiman.base.traces import trace\n",
    "import os\n",
    "import cv2\n",
    "from caiman.utils.visualization import plot_contours, nb_view_patches, nb_plot_contour\n",
    "import matplotlib.pyplot as plt\n",
    "\n",
    "\n",
    "try:\n",
    "    cv2.setNumThreads(1)\n",
    "except:\n",
    "    print('Open CV is naturally single threaded')\n",
    "import bokeh.plotting as bpl\n",
    "bpl.output_notebook()"
   ]
  },
  {
   "cell_type": "code",
   "execution_count": 2,
   "metadata": {},
   "outputs": [],
   "source": [
    "import caiman as cm\n",
    "import numpy as np\n",
    "from caiman.source_extraction import cnmf\n",
    "from caiman.utils.visualization import inspect_correlation_pnr\n",
    "from caiman.base.rois import register_ROIs\n",
    "import pickle"
   ]
  },
  {
   "cell_type": "code",
   "execution_count": 3,
   "metadata": {},
   "outputs": [
    {
     "name": "stdout",
     "output_type": "stream",
     "text": [
      "['/home/sebastian/Desktop/cnmfs/32364/20170710', '/home/sebastian/Desktop/cnmfs/32364/20170711', '/home/sebastian/Desktop/cnmfs/32364/20170712', '/home/sebastian/Desktop/cnmfs/32364/20170713', '/home/sebastian/Desktop/cnmfs/32364/20170714']\n"
     ]
    }
   ],
   "source": [
    "root = '/home/sebastian/Desktop/cnmfs/32364'\n",
    "roots = []\n",
    "paths = {}\n",
    "frames_paths = {}\n",
    "rests = {}\n",
    "\n",
    "for i in os.listdir(root):\n",
    "    if int(i[-2:])<15:\n",
    "        root_name = (os.path.join(root,i))\n",
    "        roots.append(root_name)\n",
    "        for f in os.listdir(os.path.join(root,i)):\n",
    "            if 'cnmf.pkl' in f: \n",
    "                paths[root_name]=(os.path.join(root,i,f))\n",
    "            if 'frames.npy' in f:\n",
    "                frames_paths[root_name]=(os.path.join(root,i,f))\n",
    "\n",
    "roots.sort()\n",
    "print(roots)"
   ]
  },
  {
   "cell_type": "markdown",
   "metadata": {},
   "source": [
    "### (Re)start cluster.  "
   ]
  },
  {
   "cell_type": "code",
   "execution_count": 4,
   "metadata": {},
   "outputs": [],
   "source": [
    "frate = 10 # movie frame rate\n",
    "gSig = 3   # gaussian width of a 2D gaussian kernel, which approximates a neuron\n",
    "gSiz = 10  # average diameter of a neuron\n",
    "\n",
    "min_corr = .3 # min correlation of peak (from correlation image)\n",
    "min_pnr = 5 # min peak to noise ratio\n",
    "min_SNR = 3 # adaptive way to set threshold on the transient size\n"
   ]
  },
  {
   "cell_type": "code",
   "execution_count": 5,
   "metadata": {},
   "outputs": [],
   "source": [
    "try:\n",
    "    dview.terminate() # stop it if it was running\n",
    "except:\n",
    "    pass\n",
    "\n",
    "c, dview, n_processes = cm.cluster.setup_cluster(backend='local', # use this one\n",
    "                                                 n_processes=10,  # number of process to use, if you go out of memory try to reduce this one\n",
    "                                                 )"
   ]
  },
  {
   "cell_type": "code",
   "execution_count": 6,
   "metadata": {},
   "outputs": [],
   "source": [
    "cnmfs = {}\n",
    "n_s = [0]\n",
    "\n",
    "for r in roots:\n",
    "    cnmfs[r] = cnmf.CNMF(n_processes=n_processes) \n",
    "    cnmfs[r].load(paths[r])\n",
    "    n_s.append(cnmfs[r].C.shape[0])\n"
   ]
  },
  {
   "cell_type": "code",
   "execution_count": 7,
   "metadata": {},
   "outputs": [],
   "source": [
    "from caiman.utils.stats import calc_x_rest\n",
    "\n",
    "frames = {}\n",
    "frame_pts = {}\n",
    "for r in roots:\n",
    "    frame_pt = np.load(frames_paths[r])\n",
    "    frame_pts[r]=frame_pt\n",
    "    frames[r] = calc_x_rest(frame_pt,cnmfs[r].C.shape[1])\n"
   ]
  },
  {
   "cell_type": "code",
   "execution_count": 8,
   "metadata": {},
   "outputs": [],
   "source": [
    "def check_stable(linsig): return (((linsig>-linsig.std())*(linsig<linsig.std())).sum()/np.product(linsig.shape))\n",
    "def check_increase(linsig): return (((linsig>linsig.std())).sum()/np.product(linsig.shape))\n",
    "def check_decrease(linsig): return (((linsig<-linsig.std())).sum()/np.product(linsig.shape)) "
   ]
  },
  {
   "cell_type": "code",
   "execution_count": 9,
   "metadata": {},
   "outputs": [],
   "source": [
    "# from caiman.utils.stats import norm_corr_mat\n",
    "# from caiman.utils.stats import yuste_bootstrap\n",
    "\n",
    "\n",
    "# norm_mats = {}\n",
    "# aps = {}\n",
    "# actives = {}\n",
    "# passives = {}\n",
    "# corrs = {}\n",
    "# trends = {}\n",
    "# boots = {}\n",
    "# sigs = {}\n",
    "# sigmats = {}\n",
    "# W = {}\n",
    "# B = {}\n",
    "\n",
    "# for i,r in enumerate(roots):\n",
    "#     spikes = cnmfs[r].S\n",
    "#     aps[r]=[]\n",
    "    \n",
    "#     n=0\n",
    "#     for i,p in enumerate(frame_pts[r]):\n",
    "#         aps[r].append(spikes[:,n:n+p])\n",
    "#         n+=p\n",
    "\n",
    "#     actives[r] = aps[r][::2]\n",
    "#     passives[r] = aps[r][1::2]\n",
    "\n",
    "#     corrs[r]=[]\n",
    "#     for a in actives[r]:\n",
    "#         corrs[r].append(norm_corr_mat(a))\n",
    "        \n",
    "        \n",
    "        \n",
    "\n",
    "#     boots[r] = []\n",
    "\n",
    "#     for i,a in enumerate(actives[r]):\n",
    "#         boots[r].append(yuste_bootstrap(a,1000))\n",
    "\n",
    "#     sigs[r]=[]\n",
    "    \n",
    "\n",
    "#     for i,c in enumerate(corrs[r]):\n",
    "#         sigs[r].append(c>(boots[r][i].mean(0)+boots[r][i].std(0)*3))\n",
    "\n",
    "        \n",
    "        \n",
    "#     sigmats[r] =  np.concatenate([sigs[r]]).astype(np.float)    \n",
    "#     W[r] = np.zeros(sigs[r][0].shape)\n",
    "#     B[r] = np.zeros(sigs[r][0].shape)\n",
    "    \n",
    "#     for i in range(sigmats[r].shape[1]):\n",
    "#         for j in range(sigmats[r].shape[2]):\n",
    "#             x = sigmats[r][:,i,j]\n",
    "#             y= np.arange(sigmats[r].shape[0])\n",
    "#             W[r][i,j],B[r][i,j] = np.polyfit(y, x,1)\n",
    "        \n",
    "#     trends[r]=[check_stable(W[r]),check_increase(W[r]),check_decrease(W[r])]\n",
    "    \n",
    "    \n",
    "        "
   ]
  },
  {
   "cell_type": "code",
   "execution_count": 10,
   "metadata": {},
   "outputs": [],
   "source": [
    "# plt.figure(figsize=(20,10))\n",
    "\n",
    "# n=1\n",
    "\n",
    "# for i,r in enumerate(roots[:-1]):\n",
    "#     plt.subplot(2,4,i+1)\n",
    "#     plt.title('day '+str(i+1))\n",
    "#     plt.imshow(W[r],cmap='inferno')\n",
    "#     plt.subplot(2,4,i+5)\n",
    "#     plt.bar([0,1,2],trends[r],tick_label=['stable','decrease','increase'],)\n",
    "#     plt.ylim([0,1])\n",
    "    "
   ]
  },
  {
   "cell_type": "code",
   "execution_count": 11,
   "metadata": {},
   "outputs": [],
   "source": [
    "\n",
    "        \n",
    "# plt.figure(figsize=(15,10))\n",
    "\n",
    "# for i,b in enumerate(boots[r]):\n",
    "#     plt.subplot(2,3,i+1)\n",
    "#     plt.imshow(b.mean(0),vmin=0, vmax=0.2,cmap='inferno')\n"
   ]
  },
  {
   "cell_type": "code",
   "execution_count": null,
   "metadata": {},
   "outputs": [],
   "source": [
    "# plt.figure(figsize=(15,15))\n",
    "\n",
    "# n=1\n",
    "\n",
    "# for i,r in enumerate(roots):\n",
    "#     for j,p in enumerate(sigmats[r]):\n",
    "#         plt.subplot(5,5,n)\n",
    "#         n+=1\n",
    "#         plt.imshow(p,aspect='auto')"
   ]
  },
  {
   "cell_type": "code",
   "execution_count": 55,
   "metadata": {},
   "outputs": [
    {
     "name": "stdout",
     "output_type": "stream",
     "text": [
      "/home/sebastian/Desktop/cnmfs/32364/20170710\n"
     ]
    },
    {
     "name": "stderr",
     "output_type": "stream",
     "text": [
      "/home/sebastian/Documents/CaImAn/caiman/utils/stats.py:131: RuntimeWarning: invalid value encountered in double_scalars\n",
      "  return(np.inner(spike_train_1,spike_train_2)/((np.linalg.norm(spike_train_1)+np.linalg.norm(spike_train_2))/2))\n"
     ]
    },
    {
     "name": "stdout",
     "output_type": "stream",
     "text": [
      "/home/sebastian/Desktop/cnmfs/32364/20170711\n"
     ]
    },
    {
     "name": "stderr",
     "output_type": "stream",
     "text": [
      "/home/sebastian/anaconda3/envs/caiman/lib/python3.6/site-packages/ipykernel_launcher.py:49: RuntimeWarning: invalid value encountered in greater\n"
     ]
    },
    {
     "name": "stdout",
     "output_type": "stream",
     "text": [
      "/home/sebastian/Desktop/cnmfs/32364/20170712\n",
      "/home/sebastian/Desktop/cnmfs/32364/20170713\n",
      "/home/sebastian/Desktop/cnmfs/32364/20170714\n"
     ]
    }
   ],
   "source": [
    "from caiman.utils.stats import norm_corr_mat\n",
    "from caiman.utils.stats import yuste_bootstrap\n",
    "\n",
    "week_norm_mats = {}\n",
    "week_aps = {}\n",
    "week_actives = {}\n",
    "week_passives = {}\n",
    "week_corrs = {}\n",
    "week_trends = {}\n",
    "week_boots = {}\n",
    "week_sigs = {}\n",
    "week_sigmats = {}\n",
    "week_W = {}\n",
    "week_B = {}\n",
    "\n",
    "\n",
    "for i,r in enumerate(roots):\n",
    "\n",
    "    spikes = cnmfs[r].S\n",
    "    week_aps[r]=[]\n",
    "    \n",
    "    n=0\n",
    "    for i,p in enumerate(frame_pts[r]):\n",
    "        week_aps[r].append(spikes[:,n:n+p])\n",
    "        n+=p\n",
    "\n",
    "    \n",
    "    \n",
    "    week_actives[r] = np.concatenate(week_aps[r][::2],1)\n",
    "    week_passives[r] = np.concatenate(week_aps[r][1::2],1)\n",
    "\n",
    "    week_corrs[r]=[]\n",
    "    for a in [week_actives[r]]:\n",
    "        week_corrs[r].append(norm_corr_mat(a))\n",
    "        \n",
    "        \n",
    "        \n",
    "\n",
    "    week_boots[r] = []\n",
    "\n",
    "    for i,a in enumerate([week_actives[r]]):\n",
    "        print(r)\n",
    "        week_boots[r].append(yuste_bootstrap(a,10000))\n",
    "\n",
    "    week_sigs[r]=[]\n",
    "    \n",
    "\n",
    "    for i,c in enumerate(week_corrs[r]):\n",
    "        week_sigs[r].append(c>(week_boots[r][i].mean(0)+week_boots[r][i].std(0)*3))\n",
    "\n",
    "        \n",
    "        \n",
    "    week_sigmats[r] =  np.concatenate([week_sigs[r]]).astype(np.float)  \n",
    "    \n",
    "    \n",
    "#     week_W[r] = np.zeros(week_sigs[r][0].shape)\n",
    "#     week_B[r] = np.zeros(week_sigs[r][0].shape)\n",
    "    \n",
    "#     for i in range(week_sigmats[r].shape[1]):\n",
    "#         for j in range(week_sigmats[r].shape[2]):\n",
    "#             x = week_sigmats[r][:,i,j]\n",
    "#             y= np.arange(week_sigmats[r].shape[0])\n",
    "#             week_W[r][i,j],week_B[r][i,j] = np.polyfit(y, x,1)\n",
    "        \n",
    "#     week_trends[r]=[check_stable(week_W[r]),check_increase(week_W[r]),check_decrease(week_W[r])]\n",
    "\n"
   ]
  },
  {
   "cell_type": "code",
   "execution_count": 85,
   "metadata": {},
   "outputs": [],
   "source": [
    "\n",
    "for i,r in enumerate(roots):\n",
    "    np.save(os.path.join(root,'_'.join(['32364',r.split('/')[-1],'boots.npy'])),week_boots[r])\n",
    "    \n",
    "#plt.plot(time2)"
   ]
  },
  {
   "cell_type": "code",
   "execution_count": 86,
   "metadata": {},
   "outputs": [],
   "source": [
    "plt.figure(figsize=(15,12))\n",
    "\n",
    "for i ,r in enumerate(roots):\n",
    "    plt.subplot(4,5,i+1)\n",
    "    plt.imshow(week_boots[r][0].mean(0)) \n",
    "    plt.title('baseline')\n",
    "    plt.subplot(4,5,i+6)\n",
    "    plt.imshow(week_corrs[r][0])\n",
    "    plt.title('correlation')\n",
    "    plt.subplot(4,5,i+11)\n",
    "    plt.title('significant correlations')\n",
    "    plt.imshow(week_sigmats[r].sum(0))"
   ]
  },
  {
   "cell_type": "markdown",
   "metadata": {},
   "source": [
    "### Combine cells over days:\n"
   ]
  },
  {
   "cell_type": "code",
   "execution_count": 20,
   "metadata": {},
   "outputs": [
    {
     "name": "stdout",
     "output_type": "stream",
     "text": [
      "New Pair **\n",
      "FOV: 0, shape: 225,95 total cost: 54.465926\n",
      "0.03847074508666992\n",
      "{'recall': 0.32, 'precision': 0.7578947368421053, 'accuracy': 0.2903225806451613, 'f1_score': 0.45}\n",
      "New Pair **\n",
      "FOV: 0, shape: 225,195 total cost: 138.711686\n",
      "0.30057430267333984\n",
      "{'recall': 0.4622222222222222, 'precision': 0.5333333333333333, 'accuracy': 0.3291139240506329, 'f1_score': 0.49523809523809526}\n",
      "New Pair **\n",
      "FOV: 0, shape: 225,128 total cost: 77.443863\n",
      "0.11832284927368164\n",
      "{'recall': 0.38222222222222224, 'precision': 0.671875, 'accuracy': 0.32209737827715357, 'f1_score': 0.48725212464589235}\n",
      "New Pair **\n",
      "FOV: 0, shape: 225,106 total cost: 67.866583\n",
      "0.06206512451171875\n",
      "{'recall': 0.29333333333333333, 'precision': 0.6226415094339622, 'accuracy': 0.2490566037735849, 'f1_score': 0.3987915407854985}\n",
      "New Pair **\n",
      "FOV: 0, shape: 95,195 total cost: 66.344428\n",
      "0.04787397384643555\n",
      "{'recall': 0.5684210526315789, 'precision': 0.27692307692307694, 'accuracy': 0.2288135593220339, 'f1_score': 0.3724137931034483}\n",
      "New Pair **\n",
      "FOV: 0, shape: 95,128 total cost: 63.038401\n",
      "0.04676675796508789\n",
      "{'recall': 0.5894736842105263, 'precision': 0.4375, 'accuracy': 0.33532934131736525, 'f1_score': 0.5022421524663677}\n",
      "New Pair **\n",
      "FOV: 0, shape: 95,106 total cost: 72.031535\n",
      "0.0391538143157959\n",
      "{'recall': 0.4421052631578947, 'precision': 0.39622641509433965, 'accuracy': 0.2641509433962264, 'f1_score': 0.417910447761194}\n",
      "New Pair **\n",
      "FOV: 0, shape: 195,128 total cost: 92.066545\n",
      "0.10129523277282715\n",
      "{'recall': 0.3641025641025641, 'precision': 0.5546875, 'accuracy': 0.28174603174603174, 'f1_score': 0.43962848297213625}\n",
      "New Pair **\n",
      "FOV: 0, shape: 195,106 total cost: 79.965839\n",
      "0.06652450561523438\n",
      "{'recall': 0.2717948717948718, 'precision': 0.5, 'accuracy': 0.21370967741935484, 'f1_score': 0.3521594684385382}\n",
      "New Pair **\n",
      "FOV: 0, shape: 128,106 total cost: 58.572286\n",
      "0.0466306209564209\n",
      "{'recall': 0.5546875, 'precision': 0.6698113207547169, 'accuracy': 0.43558282208588955, 'f1_score': 0.6068376068376068}\n"
     ]
    }
   ],
   "source": [
    "matches = {}\n",
    "for i,r1 in enumerate(roots[:-1]):\n",
    "    matches[r1] = {}\n",
    "    for j,r2 in enumerate(roots[i+1:]):\n",
    "        cnm1 = cnmfs[r1]\n",
    "        cnm2 = cnmfs[r2]\n",
    "        matched_ROIs1, matched_ROIs2, non_matched1, non_matched2, performance = register_ROIs(cnm1.A,cnm2.A,cnm1.dims,cnm1.cn_filter,cnm2.cn_filter)\n",
    "        \n",
    "        matches[r1][r2]=[matched_ROIs1, matched_ROIs2, non_matched1, non_matched2, performance].copy()\n"
   ]
  },
  {
   "cell_type": "code",
   "execution_count": 21,
   "metadata": {},
   "outputs": [],
   "source": [
    "match_sigs = {}\n",
    "for i,r1 in enumerate(roots[:-1]):\n",
    "    match_sigs[r1] = {}\n",
    "    for j,r2 in enumerate(roots[i+1:]):\n",
    "        matched_ROIs1  = matches[r1][r2][0]\n",
    "        matched_ROIs2  = matches[r1][r2][1]\n",
    "        \n",
    "        match_sigs[r1][r2]=[week_sigmats[r1][0,matched_ROIs1][:,matched_ROIs1],week_sigmats[r2][0,matched_ROIs2][:,matched_ROIs2]]\n"
   ]
  },
  {
   "cell_type": "code",
   "execution_count": 31,
   "metadata": {},
   "outputs": [
    {
     "data": {
      "image/png": "[encoded data removed]",
      "text/plain": [
       "<Figure size 1080x1080 with 10 Axes>"
      ]
     },
     "metadata": {},
     "output_type": "display_data"
    }
   ],
   "source": [
    "plt.figure(figsize=(15,15))\n",
    "\n",
    "for i,r1 in enumerate(roots[:-1]):\n",
    "    for j,r2 in enumerate(roots[i+1:]): \n",
    "        img = match_sigs[r1][r2][1]-match_sigs[r1][r2][0]\n",
    "        plt.subplot(5,5,i*5+j+1+(i%5))\n",
    "        plt.title(' '.join(['Day',str(r1).split('/')[-1][-2:]+'-'+str(r2).split('/')[-1][-2:]+':',str(img.mean())[0:5]]))\n",
    "        \n",
    "        plt.imshow(img)\n",
    "        plt.axis('off')\n",
    "        #plt.text(-5,-5,'Trend: '+ str(img.mean()))"
   ]
  },
  {
   "cell_type": "code",
   "execution_count": 54,
   "metadata": {},
   "outputs": [
    {
     "name": "stderr",
     "output_type": "stream",
     "text": [
      "/home/sebastian/anaconda3/envs/caiman/lib/python3.6/site-packages/ipykernel_launcher.py:3: MatplotlibDeprecationWarning: pyplot.hold is deprecated.\n",
      "    Future behavior will be consistent with the long-time default:\n",
      "    plot commands add elements without first clearing the\n",
      "    Axes and/or Figure.\n",
      "  This is separate from the ipykernel package so we can avoid doing imports until\n",
      "/home/sebastian/anaconda3/envs/caiman/lib/python3.6/site-packages/matplotlib/__init__.py:911: MatplotlibDeprecationWarning: axes.hold is deprecated. Please remove it from your matplotlibrc and/or style files.\n",
      "  mplDeprecation)\n",
      "/home/sebastian/anaconda3/envs/caiman/lib/python3.6/site-packages/matplotlib/rcsetup.py:156: MatplotlibDeprecationWarning: axes.hold is deprecated, will be removed in 3.0\n",
      "  mplDeprecation)\n"
     ]
    },
    {
     "data": {
      "text/plain": [
       "Text(0,0.5,'% significant correlations')"
      ]
     },
     "execution_count": 54,
     "metadata": {},
     "output_type": "execute_result"
    },
    {
     "data": {
      "image/png": "[encoded data removed]",
      "text/plain": [
       "<Figure size 576x576 with 1 Axes>"
      ]
     },
     "metadata": {},
     "output_type": "display_data"
    }
   ],
   "source": [
    "plt.figure(figsize=(8,8))\n",
    "\n",
    "plt.hold(True)\n",
    "\n",
    "colors=['b','g','y', 'xkcd:pumpkin','r']\n",
    "\n",
    "for i,r1 in enumerate(roots[:-1]):\n",
    "    for j,r2 in enumerate(roots[i+1:]): \n",
    "        m1 = match_sigs[r1][r2][1]\n",
    "        m0 = match_sigs[r1][r2][0]\n",
    "        plt.scatter([i,j+i+1],[m0.mean()*100,m1.mean()*100],[m0.shape[0]*10,m1.shape[0]*10],c=[colors[i],colors[i+j+1]],)\n",
    "        plt.plot([i,j+i+1],[m0.mean()*100,m1.mean()*100],color='k')\n",
    "        plt.xticks(range(5))\n",
    "plt.xlabel('day')\n",
    "plt.ylabel('% significant correlations')"
   ]
  },
  {
   "cell_type": "code",
   "execution_count": null,
   "metadata": {},
   "outputs": [],
   "source": [
    "match_mat = np.zeros([sum(n_s),sum(n_s)])\n",
    "\n",
    "n_s_int = np.cumsum(n_s)\n",
    "\n",
    "for i,k1 in enumerate(matches.keys()):\n",
    "    for j,k2 in enumerate(matches[k1].keys()):\n",
    "        n1 = n_s_int[i]\n",
    "        n2 = n_s_int[i+j]\n",
    "        #print(k1,k2,i,j+i)\n",
    "        ROI1 = np.array(matches[k1][k2][0])+n1\n",
    "        ROI2 = np.array(matches[k1][k2][1])+n2\n",
    "        #ROI2 = np.array(matches[k1][k2][0])+n2\n",
    "        match_mat[ROI1,ROI2]+=1\n",
    "        match_mat[ROI2,ROI1]+=1\n",
    "\n",
    "for n1 in n_s_int[:-1]:\n",
    "    match_mat[:,n1]+=1\n",
    "    match_mat[n1,:]+=1\n",
    "        \n",
    "        \n",
    "        \n",
    "plt.imshow(match_mat)"
   ]
  },
  {
   "cell_type": "code",
   "execution_count": null,
   "metadata": {
    "scrolled": false
   },
   "outputs": [],
   "source": [
    "\n",
    "    \n",
    "plt.figure(1,figsize=(40, 40))\n",
    "    \n",
    "for i,r in enumerate(roots[:-1]):\n",
    "    plt.subplot(4,2,2*i+1)\n",
    "    cnm1 = cnmfs[r]\n",
    "    cnm2 = cnmfs[roots[i+1]]\n",
    "    crd3 = cm.utils.visualization.plot_contours(cnm1.A[:,matches[r][0]], cnm1.cn_filter, thr=.9, vmax=0.95)\n",
    "    plt.subplot(4,2,2*i+2)\n",
    "    crd4 = cm.utils.visualization.plot_contours(cnm2.A[:,matches[r][1]], cnm2.cn_filter, thr=.9, vmax=0.95)\n",
    "    \n",
    "\n",
    "    \n",
    "    "
   ]
  },
  {
   "cell_type": "code",
   "execution_count": 35,
   "metadata": {},
   "outputs": [
    {
     "data": {
      "text/plain": [
       "{'/home/sebastian/Desktop/cnmfs/32364/20170710': <caiman.source_extraction.cnmf.cnmf.CNMF at 0x7f63c01ad390>,\n",
       " '/home/sebastian/Desktop/cnmfs/32364/20170711': <caiman.source_extraction.cnmf.cnmf.CNMF at 0x7f63c0112240>,\n",
       " '/home/sebastian/Desktop/cnmfs/32364/20170712': <caiman.source_extraction.cnmf.cnmf.CNMF at 0x7f63c0bcb8d0>,\n",
       " '/home/sebastian/Desktop/cnmfs/32364/20170713': <caiman.source_extraction.cnmf.cnmf.CNMF at 0x7f63c02c8f60>,\n",
       " '/home/sebastian/Desktop/cnmfs/32364/20170714': <caiman.source_extraction.cnmf.cnmf.CNMF at 0x7f63c0117c18>}"
      ]
     },
     "execution_count": 35,
     "metadata": {},
     "output_type": "execute_result"
    }
   ],
   "source": [
    "cnmfs"
   ]
  },
  {
   "cell_type": "code",
   "execution_count": 26,
   "metadata": {
    "scrolled": false
   },
   "outputs": [
    {
     "ename": "NameError",
     "evalue": "name 'matched_ROIs1' is not defined",
     "output_type": "error",
     "traceback": [
      "\u001b[0;31m---------------------------------------------------------------------------\u001b[0m",
      "\u001b[0;31mNameError\u001b[0m                                 Traceback (most recent call last)",
      "\u001b[0;32m<ipython-input-26-f89b4d4b9484>\u001b[0m in \u001b[0;36m<module>\u001b[0;34m()\u001b[0m\n\u001b[1;32m      3\u001b[0m \u001b[0;34m\u001b[0m\u001b[0m\n\u001b[1;32m      4\u001b[0m \u001b[0mplt\u001b[0m\u001b[0;34m.\u001b[0m\u001b[0msubplot\u001b[0m\u001b[0;34m(\u001b[0m\u001b[0;36m1\u001b[0m\u001b[0;34m,\u001b[0m\u001b[0;36m2\u001b[0m\u001b[0;34m,\u001b[0m\u001b[0;36m1\u001b[0m\u001b[0;34m)\u001b[0m\u001b[0;34m\u001b[0m\u001b[0m\n\u001b[0;32m----> 5\u001b[0;31m \u001b[0mcrd3\u001b[0m \u001b[0;34m=\u001b[0m \u001b[0mcm\u001b[0m\u001b[0;34m.\u001b[0m\u001b[0mutils\u001b[0m\u001b[0;34m.\u001b[0m\u001b[0mvisualization\u001b[0m\u001b[0;34m.\u001b[0m\u001b[0mplot_contours\u001b[0m\u001b[0;34m(\u001b[0m\u001b[0mcnm1\u001b[0m\u001b[0;34m.\u001b[0m\u001b[0mA\u001b[0m\u001b[0;34m[\u001b[0m\u001b[0;34m:\u001b[0m\u001b[0;34m,\u001b[0m\u001b[0mmatched_ROIs1\u001b[0m\u001b[0;34m]\u001b[0m\u001b[0;34m,\u001b[0m \u001b[0mcnm1\u001b[0m\u001b[0;34m.\u001b[0m\u001b[0mcn_filter\u001b[0m\u001b[0;34m,\u001b[0m \u001b[0mthr\u001b[0m\u001b[0;34m=\u001b[0m\u001b[0;36m.9\u001b[0m\u001b[0;34m,\u001b[0m \u001b[0mvmax\u001b[0m\u001b[0;34m=\u001b[0m\u001b[0;36m0.95\u001b[0m\u001b[0;34m)\u001b[0m\u001b[0;34m\u001b[0m\u001b[0m\n\u001b[0m\u001b[1;32m      6\u001b[0m \u001b[0mplt\u001b[0m\u001b[0;34m.\u001b[0m\u001b[0msubplot\u001b[0m\u001b[0;34m(\u001b[0m\u001b[0;36m1\u001b[0m\u001b[0;34m,\u001b[0m\u001b[0;36m2\u001b[0m\u001b[0;34m,\u001b[0m\u001b[0;36m2\u001b[0m\u001b[0;34m)\u001b[0m\u001b[0;34m\u001b[0m\u001b[0m\n\u001b[1;32m      7\u001b[0m \u001b[0mcrd4\u001b[0m \u001b[0;34m=\u001b[0m \u001b[0mcm\u001b[0m\u001b[0;34m.\u001b[0m\u001b[0mutils\u001b[0m\u001b[0;34m.\u001b[0m\u001b[0mvisualization\u001b[0m\u001b[0;34m.\u001b[0m\u001b[0mplot_contours\u001b[0m\u001b[0;34m(\u001b[0m\u001b[0mcnm2\u001b[0m\u001b[0;34m.\u001b[0m\u001b[0mA\u001b[0m\u001b[0;34m[\u001b[0m\u001b[0;34m:\u001b[0m\u001b[0;34m,\u001b[0m\u001b[0mmatched_ROIs2\u001b[0m\u001b[0;34m]\u001b[0m\u001b[0;34m,\u001b[0m \u001b[0mcnm2\u001b[0m\u001b[0;34m.\u001b[0m\u001b[0mcn_filter\u001b[0m\u001b[0;34m,\u001b[0m \u001b[0mthr\u001b[0m\u001b[0;34m=\u001b[0m\u001b[0;36m.9\u001b[0m\u001b[0;34m,\u001b[0m \u001b[0mvmax\u001b[0m\u001b[0;34m=\u001b[0m\u001b[0;36m0.95\u001b[0m\u001b[0;34m)\u001b[0m\u001b[0;34m\u001b[0m\u001b[0m\n",
      "\u001b[0;31mNameError\u001b[0m: name 'matched_ROIs1' is not defined"
     ]
    }
   ],
   "source": [
    "import matplotlib.pyplot as plt\n",
    "plt.figure(2,figsize=(20, 15))\n",
    "\n",
    "plt.subplot(1,2,1)\n",
    "crd3 = cm.utils.visualization.plot_contours(cnm1.A[:,matched_ROIs1], cnm1.cn_filter, thr=.9, vmax=0.95)\n",
    "plt.subplot(1,2,2)\n",
    "crd4 = cm.utils.visualization.plot_contours(cnm2.A[:,matched_ROIs2], cnm2.cn_filter, thr=.9, vmax=0.95)"
   ]
  },
  {
   "cell_type": "code",
   "execution_count": 27,
   "metadata": {},
   "outputs": [
    {
     "ename": "NameError",
     "evalue": "name 'matched_ROIs1' is not defined",
     "output_type": "error",
     "traceback": [
      "\u001b[0;31m---------------------------------------------------------------------------\u001b[0m",
      "\u001b[0;31mNameError\u001b[0m                                 Traceback (most recent call last)",
      "\u001b[0;32m<ipython-input-27-4d2af196f718>\u001b[0m in \u001b[0;36m<module>\u001b[0;34m()\u001b[0m\n\u001b[1;32m      1\u001b[0m \u001b[0mget_ipython\u001b[0m\u001b[0;34m(\u001b[0m\u001b[0;34m)\u001b[0m\u001b[0;34m.\u001b[0m\u001b[0mrun_line_magic\u001b[0m\u001b[0;34m(\u001b[0m\u001b[0;34m'matplotlib'\u001b[0m\u001b[0;34m,\u001b[0m \u001b[0;34m'qt'\u001b[0m\u001b[0;34m)\u001b[0m\u001b[0;34m\u001b[0m\u001b[0m\n\u001b[1;32m      2\u001b[0m \u001b[0;34m\u001b[0m\u001b[0m\n\u001b[0;32m----> 3\u001b[0;31m \u001b[0mspikes1\u001b[0m \u001b[0;34m=\u001b[0m \u001b[0mcnm1\u001b[0m\u001b[0;34m.\u001b[0m\u001b[0mS\u001b[0m\u001b[0;34m[\u001b[0m\u001b[0mmatched_ROIs1\u001b[0m\u001b[0;34m[\u001b[0m\u001b[0;34m:\u001b[0m\u001b[0;34m:\u001b[0m\u001b[0;36m2\u001b[0m\u001b[0;34m]\u001b[0m\u001b[0;34m,\u001b[0m\u001b[0;34m:\u001b[0m\u001b[0;34m]\u001b[0m\u001b[0;34m\u001b[0m\u001b[0m\n\u001b[0m\u001b[1;32m      4\u001b[0m \u001b[0mspikes2\u001b[0m \u001b[0;34m=\u001b[0m \u001b[0mcnm2\u001b[0m\u001b[0;34m.\u001b[0m\u001b[0mS\u001b[0m\u001b[0;34m[\u001b[0m\u001b[0mmatched_ROIs2\u001b[0m\u001b[0;34m[\u001b[0m\u001b[0;34m:\u001b[0m\u001b[0;34m:\u001b[0m\u001b[0;36m2\u001b[0m\u001b[0;34m]\u001b[0m\u001b[0;34m,\u001b[0m\u001b[0;34m:\u001b[0m\u001b[0;34m]\u001b[0m\u001b[0;34m\u001b[0m\u001b[0m\n\u001b[1;32m      5\u001b[0m \u001b[0;34m\u001b[0m\u001b[0m\n",
      "\u001b[0;31mNameError\u001b[0m: name 'matched_ROIs1' is not defined"
     ]
    }
   ],
   "source": [
    "%matplotlib qt\n",
    "\n",
    "spikes1 = cnm1.S[matched_ROIs1[::2],:]\n",
    "spikes2 = cnm2.S[matched_ROIs2[::2],:]\n",
    "\n",
    "trc1 = trace(spikes1.T)\n",
    "trc2 = trace(spikes2.T)\n",
    "\n",
    "plt.figure(3,figsize=(20, 20))\n",
    "\n",
    "\n",
    "plt.subplot(1,2,1)\n",
    "plt.title('spikes day 1:')\n",
    "trc1.plot(cmap = plt.cm.tab20b)\n",
    "\n",
    "\n",
    "plt.subplot(1,2,2)\n",
    "plt.title('spikes day 2:')\n",
    "trc2.plot(cmap = plt.cm.tab20b)\n"
   ]
  },
  {
   "cell_type": "code",
   "execution_count": null,
   "metadata": {},
   "outputs": [],
   "source": [
    "cnm1.S[0].shape"
   ]
  },
  {
   "cell_type": "markdown",
   "metadata": {},
   "source": [
    "### Stop cluster"
   ]
  },
  {
   "cell_type": "code",
   "execution_count": null,
   "metadata": {},
   "outputs": [],
   "source": [
    "#%%\n",
    "cm.stop_server(dview=dview)"
   ]
  },
  {
   "cell_type": "code",
   "execution_count": null,
   "metadata": {},
   "outputs": [],
   "source": [
    "##TODO:\n",
    "\n",
    "# from caiman import minisom\n",
    "\n",
    "# # Initialization and training\n",
    "# som = minisom.MiniSom(420, 600, cnm1.S.shape[1], sigma=10.0, learning_rate=0.5)\n",
    "# som.random_weights_init(cnm1.S)\n",
    "# print(\"Training...\")\n",
    "# som.train_random(cnm1.S, 10)  # random training\n",
    "# print(\"\\n...ready!\")"
   ]
  },
  {
   "cell_type": "code",
   "execution_count": null,
   "metadata": {},
   "outputs": [],
   "source": []
  }
 ],
 "metadata": {
  "anaconda-cloud": {},
  "kernelspec": {
   "display_name": "Python 3",
   "language": "python",
   "name": "python3"
  },
  "language_info": {
   "codemirror_mode": {
    "name": "ipython",
    "version": 3
   },
   "file_extension": ".py",
   "mimetype": "text/x-python",
   "name": "python",
   "nbconvert_exporter": "python",
   "pygments_lexer": "ipython3",
   "version": "3.6.5"
  }
 },
 "nbformat": 4,
 "nbformat_minor": 1
}
